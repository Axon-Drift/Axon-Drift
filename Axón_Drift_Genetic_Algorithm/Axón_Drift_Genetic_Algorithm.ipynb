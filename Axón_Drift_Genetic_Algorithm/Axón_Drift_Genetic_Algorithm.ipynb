{
  "cells": [
    {
      "cell_type": "code",
      "source": [
        "# Celda 1: Instalar dependencias\n",
        "!pip install --quiet deap numpy azure-cosmos\n",
        "!pip install --quiet deap azure-cosmos numpy\n",
        "# Celda 1: Instalar dependencias (deap, numpy, azure-cosmos)\n",
        "!pip install --quiet deap numpy azure-cosmos\n",
        "import sys\n",
        "!{sys.executable} -m pip install deap numpy azure-cosmos --quiet\n",
        "\n",
        "import numpy as np\n",
        "from deap import base, creator, tools, algorithms\n",
        "from azure.cosmos import CosmosClient\n",
        "\n",
        "print(\"Librerías importadas correctamente.\")\n",
        "\n"
      ],
      "outputs": [
        {
          "output_type": "stream",
          "name": "stdout",
          "text": "Librerías importadas correctamente.\n"
        }
      ],
      "execution_count": 8,
      "metadata": {
        "gather": {
          "logged": 1750327785241
        }
      }
    },
    {
      "cell_type": "code",
      "source": [
        "# Celda 2: Importar librerías y conectar a Cosmos DB\n",
        "\n",
        "import numpy as np\n",
        "from deap import base, creator, tools, algorithms\n",
        "from azure.cosmos import CosmosClient\n",
        "import json\n",
        "import os\n",
        "\n",
        "# Leer endpoint y clave de variables de entorno (puedes definirlas en Azure ML)\n",
        "endpoint = os.getenv(\"COSMOS_ENDPOINT\", \"https://infoitems.documents.azure.com:443/\")\n",
        "key = os.getenv(\"COSMOS_KEY\", \"Fi8suofAtOL8xMP3qsoMzTsHqwUuNvUQF6c9oeJnkPTm387SyM0CyubYJQnu7dNaSd4bl37PAXgbACDbntPsgQ==\")\n",
        "\n",
        "client = CosmosClient(endpoint, key)\n",
        "database = client.get_database_client(\"colisiones\")\n",
        "container = database.get_container_client(\"colisiones\")\n",
        "query = \"SELECT TOP 1 * FROM c ORDER BY c.timestamp DESC\"\n",
        "items = list(container.query_items(query, enable_cross_partition_query=True))\n",
        "prediction = items[0]['predictions'][0] if items else {'confidence': 0.5}\n",
        "\n",
        "print(f\"Confianza predicción obtenida: {prediction['confidence']}\")\n"
      ],
      "outputs": [
        {
          "output_type": "stream",
          "name": "stdout",
          "text": "Confianza predicción obtenida: 0.75\n"
        }
      ],
      "execution_count": 9,
      "metadata": {
        "gather": {
          "logged": 1750327787885
        }
      }
    },
    {
      "cell_type": "code",
      "source": [
        "# Celda 3: Definir algoritmo genético y función objetivo\n",
        "\n",
        "def evaluate_maneuver(individual):\n",
        "    delta_v = individual[0]  # m/s\n",
        "    fuel_cost = abs(delta_v) * 10\n",
        "    collision_risk = max(0, 100 - delta_v * 50 * prediction['confidence'])\n",
        "    return fuel_cost, collision_risk\n",
        "\n",
        "# Crear clases de fitness e individuo\n",
        "creator.create(\"FitnessMin\", base.Fitness, weights=(-1.0, -1.0))  # Minimizar fuel y riesgo\n",
        "creator.create(\"Individual\", list, fitness=creator.FitnessMin)\n",
        "\n",
        "toolbox = base.Toolbox()\n",
        "toolbox.register(\"attr_float\", np.random.uniform, -10, 10)\n",
        "toolbox.register(\"individual\", tools.initRepeat, creator.Individual, toolbox.attr_float, n=1)\n",
        "toolbox.register(\"population\", tools.initRepeat, list, toolbox.individual)\n",
        "toolbox.register(\"evaluate\", evaluate_maneuver)\n",
        "toolbox.register(\"mate\", tools.cxBlend, alpha=0.5)\n",
        "toolbox.register(\"mutate\", tools.mutGaussian, mu=0, sigma=1, indpb=0.2)\n",
        "toolbox.register(\"select\", tools.selTournament, tournsize=3)\n"
      ],
      "outputs": [],
      "execution_count": 10,
      "metadata": {
        "gather": {
          "logged": 1750327793583
        }
      }
    },
    {
      "cell_type": "code",
      "source": [
        "# Celda 4: Ejecutar el algoritmo genético\n",
        "\n",
        "pop = toolbox.population(n=50)\n",
        "hof = tools.HallOfFame(1)\n",
        "stats = tools.Statistics(lambda ind: ind.fitness.values)\n",
        "stats.register(\"avg\", np.mean)\n",
        "stats.register(\"min\", np.min)\n",
        "\n",
        "pop, log = algorithms.eaSimple(\n",
        "    pop, toolbox,\n",
        "    cxpb=0.5, mutpb=0.2,\n",
        "    ngen=40, stats=stats,\n",
        "    halloffame=hof,\n",
        "    verbose=True\n",
        ")\n",
        "\n",
        "best_maneuver = hof[0][0]\n",
        "resultado = {\n",
        "    \"best_delta_v\": best_maneuver,\n",
        "    \"fuel_cost\": abs(best_maneuver) * 10,\n",
        "    \"collision_risk\": max(0, 100 - best_maneuver * 50 * prediction['confidence'])\n",
        "}\n",
        "\n",
        "print(json.dumps(resultado, indent=4))\n"
      ],
      "outputs": [
        {
          "output_type": "stream",
          "name": "stdout",
          "text": "gen\tnevals\tavg    \tmin\n0  \t50    \t106.476\t0  \n1  \t32    \t75.045 \t0  \n2  \t34    \t56.6379\t0.55948\n3  \t35    \t50.1357\t0.501437\n4  \t25    \t50.0954\t0.265045\n5  \t29    \t49.8437\t0.00918329\n6  \t28    \t50.2339\t0.00918329\n7  \t30    \t50.4672\t0.00918329\n8  \t28    \t50.0471\t0.000878385\n9  \t26    \t49.8007\t0.000878385\n10 \t30    \t51.4082\t0.000878385\n11 \t32    \t49.9109\t0.000306139\n12 \t26    \t51.2271\t7.56872e-05\n13 \t26    \t50.0025\t7.56872e-05\n14 \t33    \t50.1461\t1.86609e-06\n15 \t32    \t50.3709\t1.86609e-06\n16 \t29    \t50.4755\t1.6036e-06 \n17 \t30    \t50.1307\t9.19984e-07\n18 \t24    \t50     \t5.00751e-07\n19 \t32    \t50.6414\t3.52736e-08\n20 \t31    \t50.0553\t2.45465e-08\n21 \t28    \t50.7565\t7.34254e-09\n22 \t34    \t50.625 \t4.0657e-09 \n23 \t32    \t49.5281\t4.0657e-09 \n24 \t31    \t50     \t1.63994e-09\n25 \t29    \t49.8344\t9.67425e-10\n26 \t36    \t51.6882\t9.67425e-10\n27 \t31    \t50.5264\t1.65555e-12\n28 \t28    \t50.9334\t1.65555e-12\n29 \t32    \t51.1574\t1.65555e-12\n30 \t31    \t49.9516\t1.65555e-12\n31 \t28    \t50.1542\t3.42185e-13\n32 \t25    \t49.5952\t3.42185e-13\n33 \t32    \t51.3657\t2.18215e-13\n34 \t27    \t50.1217\t1.40531e-13\n35 \t27    \t49.7155\t1.2685e-13 \n36 \t33    \t50.2336\t1.31922e-14\n37 \t21    \t49.9864\t4.54288e-14\n38 \t30    \t52.0449\t1.13413e-14\n39 \t43    \t50.2366\t1.44404e-14\n40 \t29    \t49.436 \t4.61837e-15\n{\n    \"best_delta_v\": 4.618374065988362e-16,\n    \"fuel_cost\": 4.618374065988362e-15,\n    \"collision_risk\": 99.99999999999999\n}\n"
        }
      ],
      "execution_count": 11,
      "metadata": {
        "gather": {
          "logged": 1750327795638
        }
      }
    },
    {
      "cell_type": "code",
      "source": [
        "import numpy as np\n",
        "from deap import base, creator, tools, algorithms\n",
        "from azure.cosmos import CosmosClient\n",
        "import json\n",
        "import os\n",
        "\n",
        "# Leer endpoint y clave de variables de entorno para seguridad\n",
        "endpoint = os.getenv(\"COSMOS_ENDPOINT\", \"https://infoitems.documents.azure.com:443/\")\n",
        "key = os.getenv(\"COSMOS_KEY\", \"Fi8suofAtOL8xMP3qsoMzTsHqwUuNvUQF6c9oeJnkPTm387SyM0CyubYJQnu7dNaSd4bl37PAXgbACDbntPsgQ==\")\n",
        "\n",
        "# Conexión a Cosmos DB\n",
        "client = CosmosClient(endpoint, key)\n",
        "database = client.get_database_client(\"colisiones\")\n",
        "container = database.get_container_client(\"colisiones\")\n",
        "query = \"SELECT TOP 1 * FROM c ORDER BY c.timestamp DESC\"\n",
        "items = list(container.query_items(query, enable_cross_partition_query=True))\n",
        "prediction = items[0]['predictions'][0] if items else {'confidence': 0.5}\n",
        "\n",
        "def evaluate_maneuver(individual):\n",
        "    delta_v = individual[0]  # m/s\n",
        "    fuel_cost = abs(delta_v) * 10\n",
        "    collision_risk = max(0, 100 - delta_v * 50 * prediction['confidence'])\n",
        "    return fuel_cost, collision_risk\n",
        "\n",
        "creator.create(\"FitnessMin\", base.Fitness, weights=(-1.0, -1.0))\n",
        "creator.create(\"Individual\", list, fitness=creator.FitnessMin)\n",
        "\n",
        "toolbox = base.Toolbox()\n",
        "toolbox.register(\"attr_float\", np.random.uniform, -10, 10)\n",
        "toolbox.register(\"individual\", tools.initRepeat, creator.Individual, toolbox.attr_float, n=1)\n",
        "toolbox.register(\"population\", tools.initRepeat, list, toolbox.individual)\n",
        "toolbox.register(\"evaluate\", evaluate_maneuver)\n",
        "toolbox.register(\"mate\", tools.cxBlend, alpha=0.5)\n",
        "toolbox.register(\"mutate\", tools.mutGaussian, mu=0, sigma=1, indpb=0.2)\n",
        "toolbox.register(\"select\", tools.selTournament, tournsize=3)\n",
        "\n",
        "pop = toolbox.population(n=50)\n",
        "hof = tools.HallOfFame(1)\n",
        "stats = tools.Statistics(lambda ind: ind.fitness.values)\n",
        "stats.register(\"avg\", np.mean)\n",
        "stats.register(\"min\", np.min)\n",
        "\n",
        "pop, log = algorithms.eaSimple(pop, toolbox, cxpb=0.5, mutpb=0.2, ngen=40, stats=stats, halloffame=hof)\n",
        "\n",
        "best_maneuver = hof[0][0]\n",
        "print(json.dumps({\n",
        "    \"best_delta_v\": best_maneuver,\n",
        "    \"fuel_cost\": abs(best_maneuver) * 10,\n",
        "    \"collision_risk\": max(0, 100 - best_maneuver * 50 * prediction['confidence'])\n",
        "}))\n"
      ],
      "outputs": [
        {
          "output_type": "error",
          "ename": "ModuleNotFoundError",
          "evalue": "No module named 'deap'",
          "traceback": [
            "\u001b[0;31m---------------------------------------------------------------------------\u001b[0m",
            "\u001b[0;31mModuleNotFoundError\u001b[0m                       Traceback (most recent call last)",
            "Cell \u001b[0;32mIn[1], line 2\u001b[0m\n\u001b[1;32m      1\u001b[0m \u001b[38;5;28;01mimport\u001b[39;00m\u001b[38;5;250m \u001b[39m\u001b[38;5;21;01mnumpy\u001b[39;00m\u001b[38;5;250m \u001b[39m\u001b[38;5;28;01mas\u001b[39;00m\u001b[38;5;250m \u001b[39m\u001b[38;5;21;01mnp\u001b[39;00m\n\u001b[0;32m----> 2\u001b[0m \u001b[38;5;28;01mfrom\u001b[39;00m\u001b[38;5;250m \u001b[39m\u001b[38;5;21;01mdeap\u001b[39;00m\u001b[38;5;250m \u001b[39m\u001b[38;5;28;01mimport\u001b[39;00m base, creator, tools, algorithms\n\u001b[1;32m      3\u001b[0m \u001b[38;5;28;01mfrom\u001b[39;00m\u001b[38;5;250m \u001b[39m\u001b[38;5;21;01mazure\u001b[39;00m\u001b[38;5;21;01m.\u001b[39;00m\u001b[38;5;21;01mcosmos\u001b[39;00m\u001b[38;5;250m \u001b[39m\u001b[38;5;28;01mimport\u001b[39;00m CosmosClient\n\u001b[1;32m      4\u001b[0m \u001b[38;5;28;01mimport\u001b[39;00m\u001b[38;5;250m \u001b[39m\u001b[38;5;21;01mjson\u001b[39;00m\n",
            "\u001b[0;31mModuleNotFoundError\u001b[0m: No module named 'deap'"
          ]
        }
      ],
      "execution_count": 1,
      "metadata": {
        "gather": {
          "logged": 1750327381748
        }
      }
    }
  ],
  "metadata": {
    "kernelspec": {
      "name": "python310-sdkv2",
      "language": "python",
      "display_name": "Python 3.10 - SDK v2"
    },
    "language_info": {
      "name": "python",
      "version": "3.10.16",
      "mimetype": "text/x-python",
      "codemirror_mode": {
        "name": "ipython",
        "version": 3
      },
      "pygments_lexer": "ipython3",
      "nbconvert_exporter": "python",
      "file_extension": ".py"
    },
    "microsoft": {
      "ms_spell_check": {
        "ms_spell_check_language": "es"
      },
      "host": {
        "AzureML": {
          "notebookHasBeenCompleted": true
        }
      }
    },
    "kernel_info": {
      "name": "python310-sdkv2"
    },
    "nteract": {
      "version": "nteract-front-end@1.0.0"
    }
  },
  "nbformat": 4,
  "nbformat_minor": 2
}